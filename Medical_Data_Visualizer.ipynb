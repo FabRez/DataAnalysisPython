{
 "cells": [
  {
   "cell_type": "markdown",
   "metadata": {},
   "source": [
    "In this project, you will visualize and make calculations from medical examination data using matplotlib, seaborn, and pandas. The dataset values were collected during medical examinations.\n",
    "Data description\n",
    "\n",
    "The rows in the dataset represent patients and the columns represent information like body measurements, results from various blood tests, and lifestyle choices. You will use the dataset to explore the relationship between cardiac disease, body measurements, blood markers, and lifestyle choices.\n",
    "\n",
    "Create a chart similar to ``examples/Figure_1.png``, where we show the counts of good and bad outcomes for the ``cholesterol``, ``gluc``, ``alco``, ``active``, and ``smoke`` variables for patients with __cardio=1__ and __cardio=0__ in different panels.\n",
    "\n",
    "Use the data to complete the following tasks in medical_data_visualizer.py:\n",
    "\n",
    "- Add an overweight column to the data. To determine if a person is overweight, first calculate their BMI by dividing their weight in kilograms by the square of their height in meters. If that value is > 25 then the person is overweight. Use the value 0 for NOT overweight and the value 1 for overweight.\n",
    "\n",
    "\n",
    "- Normalize the data by making 0 always good and 1 always bad. If the value of ``cholesterol`` or ``gluc`` is 1, make the value 0. If the value is more than 1, make the value 1.\n",
    "    \n",
    "- Convert the data into long format and create a chart that shows the value counts of the categorical features using seaborn's ``catplot()``. The dataset should be split by __'Cardio'__ so there is one chart for each ``cardio`` value. The chart should look like ``examples/Figure_1.png``.\n",
    "\n",
    "- Clean the data. Filter out the following patient segments that represent incorrect data:\n",
    "\n",
    "    - diastolic pressure is higher than systolic (Keep the correct data with (df['ap_lo'] <= df['ap_hi']))\n",
    "    - height is less than the 2.5th percentile (Keep the correct data with (df['height'] >= df['height'].quantile(0.025)))\n",
    "    - height is more than the 97.5th percentile\n",
    "    - weight is less than the 2.5th percentile\n",
    "    - weight is more than the 97.5th percentile\n",
    "\n",
    "- Create a correlation matrix using the dataset. Plot the correlation matrix using seaborn's ``heatmap()``. Mask the upper triangle. The chart should look like examples/Figure_2.png.\n",
    "\n",
    "Any time a variable is set to None, make sure to set it to the correct code."
   ]
  },
  {
   "cell_type": "markdown",
   "metadata": {},
   "source": []
  }
 ],
 "metadata": {
  "kernelspec": {
   "display_name": "Python 3.7.5 64-bit",
   "language": "python",
   "name": "python3"
  },
  "language_info": {
   "name": "python",
   "version": "3.7.5"
  },
  "orig_nbformat": 4,
  "vscode": {
   "interpreter": {
    "hash": "fd69f43f58546b570e94fd7eba7b65e6bcc7a5bbc4eab0408017d18902915d69"
   }
  }
 },
 "nbformat": 4,
 "nbformat_minor": 2
}
