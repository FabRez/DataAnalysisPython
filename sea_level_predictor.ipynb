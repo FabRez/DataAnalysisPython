{
 "cells": [
  {
   "cell_type": "markdown",
   "metadata": {},
   "source": [
    "You will analyze a dataset of the global average sea level change since 1880. You will use the data to predict the sea level change through year 2050.\n",
    "\n",
    "Use the data to complete the following tasks :\n",
    "\n",
    "- Use Pandas to import the data from ``epa-sea-level.csv``.\n",
    "\n",
    "- Use matplotlib to create a scatter plot using the ``Year`` column as the x-axis and the ``CSIRO Adjusted Sea Level`` column as the y-axix.\n",
    "    \n",
    "- Use the ``linregress`` function from ``scipy.stats`` to get the slope and y-intercept of the line of best fit. Plot the line of best fit over the top of the scatter plot. Make  - the line go through the year 2050 to predict the sea level rise in 2050.\n",
    "\n",
    "- Plot a new line of best fit just using the data from year 2000 through the most recent year in the dataset. Make the line also go through the year 2050 to predict the sea level rise in 2050 if the rate of rise continues as it has since the year 2000.\n",
    "\n",
    "- The x label should be ``Year``, the y label should be ``Sea Level (inches)``, and the title should be ``Rise in Sea Level``.\n",
    "\n"
   ]
  },
  {
   "cell_type": "code",
   "execution_count": 1,
   "metadata": {},
   "outputs": [],
   "source": [
    "import pandas as pd\n",
    "import matplotlib.pyplot as plt\n",
    "from scipy.stats import linregress"
   ]
  },
  {
   "cell_type": "code",
   "execution_count": 68,
   "metadata": {},
   "outputs": [],
   "source": [
    "import pandas as pd\n",
    "import matplotlib.pyplot as plt\n",
    "from scipy.stats import linregress\n",
    "\n",
    "_yrs = range(1880,2051)\n",
    "def draw_plot():\n",
    "    # Read data from file\n",
    "    df = pd.read_csv('epa-sea-level.csv')\n",
    "\n",
    "    # Create scatter plot\n",
    "    fig= plt.scatter(df['Year'],df['CSIRO Adjusted Sea Level'])\n",
    "\n",
    "    # Create first line of best fit\n",
    "    res = linregress(df['Year'],df['CSIRO Adjusted Sea Level'])\n",
    "    _slp = float(res[0])\n",
    "    _int = float(res[1])\n",
    "\n",
    "    _df = pd.DataFrame(_yrs,columns=['Year'])\n",
    "    _df['regfit'] = _df['Year']*_slp + _int\n",
    "    \n",
    "    # Create second line of best fit\n",
    "    _dfcut = df.loc[df['Year'] >= 2000]\n",
    "\n",
    "    res = linregress(_dfcut['Year'],_dfcut['CSIRO Adjusted Sea Level'])\n",
    "    _slp = float(res[0])\n",
    "    _int = float(res[1])\n",
    "\n",
    "    _df['regfit2'] = _df['Year']*_slp + _int\n",
    "\n",
    "    plt.plot(_df['Year'],_df['regfit'],ls='--',c='k')\n",
    "    plt.plot(_df['Year'].loc[_df['Year']>= 2000],_df['regfit2'].loc[_df['Year']>= 2000],ls='--',c='r')\n",
    "    # Add labels and title\n",
    "    plt.title('Rise in Sea Level')\n",
    "    \n",
    "    plt.xlabel('Year')\n",
    "    plt.ylabel('Sea Level (inches)')\n",
    "    #plt.ylim(-5,20)\n",
    "    plt.xlim(1850,2075)\n",
    "    \n",
    "    # Save plot and return data for testing (DO NOT MODIFY)\n",
    "    plt.savefig('sea_level_plot.png')\n",
    "    return plt.gca()"
   ]
  },
  {
   "cell_type": "code",
   "execution_count": 69,
   "metadata": {},
   "outputs": [
    {
     "data": {
      "text/plain": [
       "<matplotlib.axes._subplots.AxesSubplot at 0x7f35b8fd2e48>"
      ]
     },
     "execution_count": 69,
     "metadata": {},
     "output_type": "execute_result"
    },
    {
     "data": {
      "image/png": "[encoded data removed]",
      "text/plain": [
       "<Figure size 432x288 with 1 Axes>"
      ]
     },
     "metadata": {
      "needs_background": "light"
     },
     "output_type": "display_data"
    }
   ],
   "source": [
    "draw_plot()"
   ]
  }
 ],
 "metadata": {
  "kernelspec": {
   "display_name": "Python 3.6.9 64-bit",
   "language": "python",
   "name": "python3"
  },
  "language_info": {
   "codemirror_mode": {
    "name": "ipython",
    "version": 3
   },
   "file_extension": ".py",
   "mimetype": "text/x-python",
   "name": "python",
   "nbconvert_exporter": "python",
   "pygments_lexer": "ipython3",
   "version": "3.6.9"
  },
  "orig_nbformat": 4,
  "vscode": {
   "interpreter": {
    "hash": "767d51c1340bd893661ea55ea3124f6de3c7a262a8b4abca0554b478b1e2ff90"
   }
  }
 },
 "nbformat": 4,
 "nbformat_minor": 2
}
